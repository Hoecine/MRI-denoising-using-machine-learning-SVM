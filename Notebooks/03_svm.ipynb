{
 "cells": [
  {
   "cell_type": "code",
   "execution_count": 2,
   "metadata": {},
   "outputs": [],
   "source": [
    "import os\n",
    "import numpy as np\n",
    "from sklearn.svm import SVR\n",
    "from sklearn.model_selection import train_test_split\n",
    "from sklearn.metrics import mean_squared_error\n",
    "import matplotlib.pyplot as plt\n"
   ]
  },
  {
   "cell_type": "markdown",
   "metadata": {},
   "source": [
    "# Extraction de patchs (Explication necessaire aprés..)"
   ]
  },
  {
   "cell_type": "code",
   "execution_count": null,
   "metadata": {},
   "outputs": [],
   "source": [
    "def ext_patches(X_i, Y_i, patch_size):\n",
    "    X_patches = []\n",
    "    Y_targs = []\n",
    "    ecart = patch_size\n",
    "    w, h = X_i.shape\n",
    "    \n",
    "    #La je ne sais oas si je dois faire un padding de l'image pour justement prendre en compte tous les pixels de l'image\n",
    "    \n",
    "    for i in range(ecart, h - ecart):\n",
    "        for j in range (ecart, w - ecart):\n",
    "            patch = X_i(i-ecart:i+ecart+1)\n",
    "            label = Y_i[i,j]\n",
    "            X_patches.append(patch.flatten())\n",
    "            Y_targs.append(label)\n",
    "    \n",
    "    return np.array(X_patches), np.array(Y_targs)"
   ]
  },
  {
   "cell_type": "markdown",
   "metadata": {},
   "source": [
    "#  Création du dataset depuis les paires (images bruitées - ground truth) "
   ]
  },
  {
   "cell_type": "code",
   "execution_count": null,
   "metadata": {},
   "outputs": [],
   "source": [
    "noisy_dir = \"C:/Users/Asus/Desktop/M1-IMA/PIMA/data/noisy\"\n",
    "GT_dir = \"C:/Users/Asus/Desktop/M1-IMA/PIMA/data/ground_truth\"\n",
    "types = [\"gaussian_std25\", \"gaussian_std80\", \"rician_s20\", \"rician_s50\", \"gaussian20_rician50\"]\n",
    "\n",
    "#on cherche alors d'avoir un dataset qui inclus toutes les images (donc le svm n'apprendra pas seulement d'une seule image hein!)\n",
    "\n",
    "X_tot =[]\n",
    "Y_tot = []\n",
    "\n",
    "for fname in os.listdir(noisy_dir):\n",
    "    if any(t in fname for t in types):\n",
    "        gt_file = fname.split(\"_slice\")[0] + \"_slice\" + fname.split(\"_slice\")[1].split(\"_\")[0] + \"_clean.npy\"\n",
    "        noisy_path = os.path.join(noisy_dir, fname)\n",
    "        gt_path = os.path.join(gt_dir, gt_file)\n",
    "        \n",
    "        if os.path.exists(gt_path):\n",
    "            X_img = np.load(noisy_path)\n",
    "            Y_img = np.load(gt_path)\n",
    "\n",
    "            X_patch, y_patch = extract_patches(X_img, Y_img)\n",
    "\n",
    "            X_total.append(X_patch)\n",
    "            y_total.append(y_patch)\n",
    "            \n",
    "X_total = np.vstack(X_total)\n",
    "y_total = np.concatenate(y_total)\n",
    "\n",
    "print(\"Nombre total de patchs :\", X_total.shape[0])"
   ]
  },
  {
   "cell_type": "markdown",
   "metadata": {},
   "source": [
    "#  Entrainement\n"
   ]
  },
  {
   "cell_type": "code",
   "execution_count": null,
   "metadata": {},
   "outputs": [],
   "source": [
    "X_train, X_test, y_train, y_test = train_test_split(X_total, y_total, test_size=0.2, random_state=42)\n",
    "\n",
    "model = SVR(kernel='rbf')\n",
    "model.fit(X_train, y_train)\n",
    "\n",
    "y_pred = model.predict(X_test)\n",
    "\n",
    "#que le MSE for now!!\n",
    "mse = mean_squared_error(y_test, y_pred)\n",
    "print(\"MSE sur le test set :\", mse)\n"
   ]
  },
  {
   "cell_type": "markdown",
   "metadata": {},
   "source": [
    "##  Evaluation du modèle par : PSNR, SSIM, mutual information"
   ]
  },
  {
   "cell_type": "code",
   "execution_count": null,
   "metadata": {},
   "outputs": [],
   "source": [
    "from skimage.metrics import peak_signal_noise_ratio as psnr\n",
    "from skimage.metrics import structural_similarity as ssim\n",
    "\n"
   ]
  }
 ],
 "metadata": {
  "kernelspec": {
   "display_name": "Python 3",
   "language": "python",
   "name": "python3"
  },
  "language_info": {
   "codemirror_mode": {
    "name": "ipython",
    "version": 3
   },
   "file_extension": ".py",
   "mimetype": "text/x-python",
   "name": "python",
   "nbconvert_exporter": "python",
   "pygments_lexer": "ipython3",
   "version": "3.10.3"
  }
 },
 "nbformat": 4,
 "nbformat_minor": 2
}
