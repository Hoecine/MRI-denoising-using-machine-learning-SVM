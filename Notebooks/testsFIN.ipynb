{
 "cells": [
  {
   "cell_type": "markdown",
   "id": "e4d00834",
   "metadata": {},
   "source": [
    "## I. Résultats quantitatifs sur l'étude : Multi-patchs/multi-niveaux de bruit"
   ]
  },
  {
   "cell_type": "code",
   "execution_count": null,
   "id": "efbd737c",
   "metadata": {},
   "outputs": [
    {
     "name": "stdout",
     "output_type": "stream",
     "text": [
      "   noise_level  patch_size  stride   psnr    ssim  blur_gt  blur_noisy  \\\n",
      "0       faible           3       2  46.13  0.9769    13.67       67.55   \n",
      "1       faible           5       3  45.58  0.9775    13.67       67.55   \n",
      "2       faible           7       4  44.78  0.9752    13.67       67.55   \n",
      "3       faible           9       5  44.03  0.9725    13.67       67.55   \n",
      "4         fort           3       2  43.51  0.9460    13.67      264.56   \n",
      "5         fort           5       3   6.27  0.9340    13.67      264.56   \n",
      "6         fort           7       4  12.97  0.9458    13.67      264.56   \n",
      "7         fort           9       5  17.18  0.9454    13.67      264.56   \n",
      "8        moyen           3       2  45.82  0.9722    13.67      133.37   \n",
      "9        moyen           5       3  45.45  0.9745    13.67      133.37   \n",
      "10       moyen           7       4  44.75  0.9730    13.67      133.37   \n",
      "11       moyen           9       4  44.05  0.9704    13.67      133.37   \n",
      "\n",
      "    blur_denoised        akld  \n",
      "0            6.79    0.907010  \n",
      "1            4.88    0.971240  \n",
      "2            3.57    0.976270  \n",
      "3            2.76    0.983970  \n",
      "4            9.12    0.860260  \n",
      "5          617.71  605.283330  \n",
      "6          142.98  121.989870  \n",
      "7            6.79    0.907010  \n",
      "8            7.15    0.984480  \n",
      "9            4.70    1.099075  \n",
      "10           3.33    1.122890  \n",
      "11           2.73    1.130030  \n"
     ]
    }
   ],
   "source": [
    "\n",
    "\n",
    "resultats1 = []\n",
    "resultats1.append({\n",
    "    \"noise_level\" : \"faible\",\n",
    "    \"patch_size\": 3,\n",
    "    \"stride\": 2,\n",
    "    \"psnr\": 46.13,\n",
    "    \"ssim\": 0.9769,\n",
    "    \"blur_gt\": 13.67,\n",
    "    \"blur_noisy\": 67.55,\n",
    "    \"blur_denoised\": 6.79,\n",
    "    \"akld\":0.90701\n",
    "})\n",
    "resultats1.append({\n",
    "    \"noise_level\" : \"faible\",\n",
    "    \"patch_size\": 5,\n",
    "    \"stride\": 3,\n",
    "    \"psnr\": 45.58,\n",
    "    \"ssim\": 0.9775,\n",
    "    \"blur_gt\": 13.67,\n",
    "    \"blur_noisy\": 67.55,\n",
    "    \"blur_denoised\": 4.88,\n",
    "    \"akld\":0.97124\n",
    "})\n",
    "resultats1.append({\n",
    "    \"noise_level\" : \"faible\",\n",
    "    \"patch_size\": 7,\n",
    "    \"stride\": 4,\n",
    "    \"psnr\": 44.78,\n",
    "    \"ssim\": 0.9752,\n",
    "    \"blur_gt\": 13.67,\n",
    "    \"blur_noisy\": 67.55,\n",
    "    \"blur_denoised\": 3.57,\n",
    "    \"akld\":0.97627\n",
    "})\n",
    "resultats1.append({\n",
    "    \"noise_level\" : \"faible\",\n",
    "    \"patch_size\": 9,\n",
    "    \"stride\": 5,\n",
    "    \"psnr\": 44.03,\n",
    "    \"ssim\": 0.9725,\n",
    "    \"blur_gt\": 13.67,\n",
    "    \"blur_noisy\": 67.55,\n",
    "    \"blur_denoised\": 2.76,\n",
    "    \"akld\":0.98397\n",
    "})\n",
    "\n",
    "resultats1.append({\n",
    "    \"noise_level\" : \"fort\",\n",
    "    \"patch_size\": 3,\n",
    "    \"stride\": 2,\n",
    "    \"psnr\": 43.51,\n",
    "    \"ssim\": 0.9460,\n",
    "    \"blur_gt\": 13.67,\n",
    "    \"blur_noisy\": 264.56,\n",
    "    \"blur_denoised\": 9.12,\n",
    "    \"akld\":0.86026\n",
    "})\n",
    "\n",
    "\n",
    "resultats1.append({\n",
    "    \"noise_level\" : \"fort\",\n",
    "    \"patch_size\": 5,\n",
    "    \"stride\": 3,\n",
    "    \"psnr\": 6.27,\n",
    "    \"ssim\": 0.9340,\n",
    "    \"blur_gt\": 13.67,\n",
    "    \"blur_noisy\": 264.56,\n",
    "    \"blur_denoised\": 617.71,\n",
    "    \"akld\":605.28333\n",
    "})\n",
    "\n",
    "resultats1.append({\n",
    "    \"noise_level\" : \"fort\",\n",
    "    \"patch_size\": 7,\n",
    "    \"stride\": 4,\n",
    "    \"psnr\": 12.97,\n",
    "    \"ssim\": 0.9458,\n",
    "    \"blur_gt\": 13.67,\n",
    "    \"blur_noisy\": 264.56,\n",
    "    \"blur_denoised\": 142.98,\n",
    "    \"akld\":121.98987\n",
    "})\n",
    "\n",
    "resultats1.append({\n",
    "    \"noise_level\" : \"fort\",\n",
    "    \"patch_size\": 9,\n",
    "    \"stride\": 5,\n",
    "    \"psnr\": 17.18,\n",
    "    \"ssim\": 0.9454,\n",
    "    \"blur_gt\": 13.67,\n",
    "    \"blur_noisy\": 264.56,\n",
    "    \"blur_denoised\": 6.79,\n",
    "    \"akld\":0.90701\n",
    "})\n",
    "\n",
    "resultats1.append({\n",
    "    \"noise_level\" : \"moyen\",\n",
    "    \"patch_size\": 3,\n",
    "    \"stride\": 2,\n",
    "    \"psnr\": 45.82,\n",
    "    \"ssim\": 0.9722,\n",
    "    \"blur_gt\": 13.67,\n",
    "    \"blur_noisy\": 133.37,\n",
    "    \"blur_denoised\": 7.15,\n",
    "    \"akld\":0.98448\n",
    "})\n",
    "\n",
    "\n",
    "resultats1.append({\n",
    "    \"noise_level\" : \"moyen\",\n",
    "    \"patch_size\": 5,\n",
    "    \"stride\": 3,\n",
    "    \"psnr\": 45.45,\n",
    "    \"ssim\": 0.9745,\n",
    "    \"blur_gt\": 13.67,\n",
    "    \"blur_noisy\": 133.37,\n",
    "    \"blur_denoised\": 4.70,\n",
    "    \"akld\":1.099075\n",
    "})\n",
    "\n",
    "resultats1.append({\n",
    "    \"noise_level\" : \"moyen\",\n",
    "    \"patch_size\": 7,\n",
    "    \"stride\": 4,\n",
    "    \"psnr\": 44.75,\n",
    "    \"ssim\": 0.9730,\n",
    "    \"blur_gt\": 13.67,\n",
    "    \"blur_noisy\": 133.37,\n",
    "    \"blur_denoised\": 3.33,\n",
    "    \"akld\":1.12289\n",
    "})\n",
    "\n",
    "resultats1.append({\n",
    "    \"noise_level\" : \"moyen\",\n",
    "    \"patch_size\": 9,\n",
    "    \"stride\": 4,\n",
    "    \"psnr\": 44.05,\n",
    "    \"ssim\": 0.9704,\n",
    "    \"blur_gt\": 13.67,\n",
    "    \"blur_noisy\": 133.37,\n",
    "    \"blur_denoised\": 2.73,\n",
    "    \"akld\":1.13003\n",
    "})\n",
    "\n",
    "import pandas as pd\n",
    "\n",
    "df_results = pd.DataFrame(resultats1)\n",
    "df_results.to_csv(\"C:/Users/Asus/Desktop/M1-IMA/PIMA/results/resume_svm_experiences.csv\", index=False)\n",
    "print(df_results)"
   ]
  },
  {
   "cell_type": "code",
   "execution_count": null,
   "id": "d032ab2d",
   "metadata": {},
   "outputs": [
    {
     "name": "stdout",
     "output_type": "stream",
     "text": [
      "                 psnr      ssim  blur_denoised        akld\n",
      "patch_size                                                \n",
      "3           45.153333  0.965033       7.686667    0.917250\n",
      "5           32.433333  0.962000     209.096667  202.451215\n",
      "7           34.166667  0.964667      49.960000   41.363010\n",
      "9           35.086667  0.962767       4.093333    1.007003\n"
     ]
    }
   ],
   "source": [
    "moyennes_par_patch = df_results.groupby(\"patch_size\")[[\"psnr\", \"ssim\", \"blur_denoised\", \"akld\"]].mean()\n",
    "print(\"Résultats moyens par patch (peeu importe le bruit)\")\n",
    "print(moyennes_par_patch)"
   ]
  },
  {
   "cell_type": "code",
   "execution_count": 5,
   "id": "8469b487",
   "metadata": {},
   "outputs": [
    {
     "name": "stdout",
     "output_type": "stream",
     "text": [
      "reultats moyens par bruit (peu importe la taille du patch)\n",
      "                psnr      ssim  blur_denoised        akld\n",
      "noise_level                                              \n",
      "faible       45.1300  0.975525         4.5000    0.959623\n",
      "fort         19.9825  0.942800       194.1500  182.260118\n",
      "moyen        45.0175  0.972525         4.4775    1.084119\n"
     ]
    }
   ],
   "source": [
    "moyennes_par_bruit = df_results.groupby(\"noise_level\")[[\"psnr\", \"ssim\", \"blur_denoised\", \"akld\"]].mean()\n",
    "print(\"reultats moyens par bruit (peu importe la taille du patch)\")\n",
    "print(moyennes_par_bruit)\n"
   ]
  },
  {
   "cell_type": "markdown",
   "id": "fb39e897",
   "metadata": {},
   "source": [
    "## II. Sans chevauchement "
   ]
  },
  {
   "cell_type": "code",
   "execution_count": 8,
   "id": "892a046a",
   "metadata": {},
   "outputs": [
    {
     "name": "stdout",
     "output_type": "stream",
     "text": [
      "   noise_level  patch_size  stride   psnr    ssim  blur_gt  blur_noisy  \\\n",
      "8        moyen           3       2  45.82  0.9722    13.67      133.37   \n",
      "9        moyen           5       3  45.45  0.9745    13.67      133.37   \n",
      "10       moyen           7       4  44.75  0.9730    13.67      133.37   \n",
      "11       moyen           9       4  44.05  0.9704    13.67      133.37   \n",
      "\n",
      "    blur_denoised      akld  \n",
      "8            7.15  0.984480  \n",
      "9            4.70  1.099075  \n",
      "10           3.33  1.122890  \n",
      "11           2.73  1.130030  \n",
      "   patch_size  stride       psnr      ssim    blur_gt  blur_noisy  \\\n",
      "0           3       3  44.285283  0.974510  18.265512    137.9516   \n",
      "1           5       5  43.068558  0.971783  18.265512    137.9516   \n",
      "2           7       7  41.926693  0.966977  18.265512    137.9516   \n",
      "3           9       9  41.009662  0.961588  18.265512    137.9516   \n",
      "\n",
      "   blur_denoised      akld  \n",
      "0       8.421597  0.960570  \n",
      "1       5.332972  1.054486  \n",
      "2       3.841783  1.086586  \n",
      "3       2.981606  1.101994  \n"
     ]
    }
   ],
   "source": [
    "df_moyen = df_results[df_results[\"noise_level\"] == \"moyen\"]\n",
    "print(df_moyen)\n",
    "\n",
    "file_name = \"C:/Users/Asus/Desktop/M1-IMA/PIMA/results/resultats_svm_sans_chevauchement.csv\"\n",
    "res_SC = pd.read_csv(file_name)\n",
    "print(res_SC)"
   ]
  },
  {
   "cell_type": "markdown",
   "id": "2b54b30a",
   "metadata": {},
   "source": [
    "Ce dernier résultat montre que le non-chevauchement n'induit pas une grande différence, les résultats avec chevauchement sont légèrement meilleurs.\n",
    "Attention : ceci peut etre vrai que pour les bruits faibles et modérés, il se peut qu'il y ait une différence avec le bruit fort."
   ]
  },
  {
   "cell_type": "code",
   "execution_count": 9,
   "id": "e8a3fc26",
   "metadata": {},
   "outputs": [
    {
     "name": "stdout",
     "output_type": "stream",
     "text": [
      "   patient  slice        noise       psnr      ssim    blur_gt  blur_noisy  \\\n",
      "0      102      0   gaussian40  40.886989  0.906118  14.984196   96.887220   \n",
      "1      102      0     rician53  45.386729  0.970973  14.984196  108.662890   \n",
      "2      102      0  mix_g33_r40  46.139469  0.975352  14.984196  131.110460   \n",
      "3      103      0   gaussian40  39.310678  0.888329  25.579493  117.551880   \n",
      "4      103      0     rician53  43.243928  0.972920  25.579493  118.994300   \n",
      "5      103      0  mix_g33_r40  43.735553  0.972169  25.579493  148.791030   \n",
      "6      104      0   gaussian40  40.451727  0.901857  18.396063  102.899315   \n",
      "7      104      0     rician53  44.676267  0.971808  18.396063  112.583350   \n",
      "8      104      0  mix_g33_r40  45.209375  0.974205  18.396063  136.450150   \n",
      "\n",
      "   blur_denoised      akld  \n",
      "0       5.818924  0.540938  \n",
      "1       6.802130  1.067251  \n",
      "2       7.024517  1.036175  \n",
      "3       7.567507  0.537729  \n",
      "4       8.478258  0.987399  \n",
      "5       8.915214  0.923626  \n",
      "6       6.563414  0.521265  \n",
      "7       7.464788  1.044138  \n",
      "8       7.689026  0.994574  \n"
     ]
    }
   ],
   "source": [
    "file_name = \"C:/Users/Asus/Desktop/M1-IMA/PIMA/results/resultats_patients.csv\"\n",
    "res_P = pd.read_csv(file_name)\n",
    "print(res_P)"
   ]
  }
 ],
 "metadata": {
  "kernelspec": {
   "display_name": "Python 3",
   "language": "python",
   "name": "python3"
  },
  "language_info": {
   "codemirror_mode": {
    "name": "ipython",
    "version": 3
   },
   "file_extension": ".py",
   "mimetype": "text/x-python",
   "name": "python",
   "nbconvert_exporter": "python",
   "pygments_lexer": "ipython3",
   "version": "3.10.3"
  }
 },
 "nbformat": 4,
 "nbformat_minor": 5
}
